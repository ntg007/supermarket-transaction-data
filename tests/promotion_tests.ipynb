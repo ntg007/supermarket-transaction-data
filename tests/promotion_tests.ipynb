{
 "cells": [
  {
   "cell_type": "code",
   "execution_count": 0,
   "metadata": {
    "application/vnd.databricks.v1+cell": {
     "cellMetadata": {
      "byteLimit": 2048000,
      "rowLimit": 10000
     },
     "inputWidgets": {},
     "nuid": "06e9d368-7b97-48fa-a4e2-c7f271fdfd95",
     "showTitle": false,
     "tableResultSettingsMap": {},
     "title": ""
    }
   },
   "outputs": [],
   "source": [
    "import unittest\n",
    "from pyspark.ml.feature import StringIndexer, VectorAssembler\n",
    "\n",
    "class TestPromotionNotebook(unittest.TestCase):\n",
    "\n",
    "    @classmethod\n",
    "    def setUpClass(cls):\n",
    "        # Path to your parquet file in Azure Blob\n",
    "        parquet_path = \"/mnt/silver/promotion/\"\n",
    "        \n",
    "        # Load DataFrame from Parquet file in Azure Blob storage\n",
    "        cls.df = spark.read.parquet(parquet_path)\n",
    "\n",
    "# null values in feature and display columns are filled with the string \"NONE\".\n",
    "    def test_null_fill(self):\n",
    "        df = self.df.fillna(\"NONE\", subset=[\"feature\", \"display\"])\n",
    "        features = df.select(\"feature\").rdd.flatMap(lambda x: x).collect()\n",
    "        displays = df.select(\"display\").rdd.flatMap(lambda x: x).collect()\n",
    "        self.assertNotIn(None, features)\n",
    "        self.assertNotIn(None, displays)\n",
    "        self.assertIn(\"NONE\", features)\n",
    "        self.assertIn(\"NONE\", displays)\n",
    "\n",
    "# Verifies StringIndexer creates numerical index columns\n",
    "    def test_string_indexer(self):\n",
    "        df = self.df.fillna(\"NONE\", subset=[\"feature\", \"display\"])\n",
    "        indexer_feature = StringIndexer(\n",
    "            inputCol=\"feature\",\n",
    "            outputCol=\"featureindexed\",\n",
    "            handleInvalid=\"keep\"\n",
    "        )\n",
    "        indexer_display = StringIndexer(\n",
    "            inputCol=\"display\",\n",
    "            outputCol=\"displayindexed\",\n",
    "            handleInvalid=\"keep\"\n",
    "        )\n",
    "\n",
    "        model_feature = indexer_feature.fit(df)\n",
    "        model_display = indexer_display.fit(df)\n",
    "\n",
    "        df_indexed = model_feature.transform(df)\n",
    "        df_indexed = model_display.transform(df_indexed)\n",
    "\n",
    "        self.assertIn(\"featureindexed\", df_indexed.columns)\n",
    "        self.assertIn(\"displayindexed\", df_indexed.columns)+\n",
    "\n",
    "#  VectorAssembler successfully assemble the indexed features into single vector column\n",
    "    def test_vector_assembler(self):\n",
    "        df = self.df.fillna(\"NONE\", subset=[\"feature\", \"display\"])\n",
    "        indexer_display = StringIndexer(\n",
    "            inputCol=\"display\",\n",
    "            outputCol=\"displayindexed\",\n",
    "            handleInvalid=\"keep\"\n",
    "        )\n",
    "        model_display = indexer_display.fit(df)\n",
    "        df_indexed = model_display.transform(df)\n",
    "\n",
    "        assembler = VectorAssembler(\n",
    "            inputCols=[\"displayindexed\"],\n",
    "            outputCol=\"typevec\"\n",
    "        )\n",
    "        df_assembled = assembler.transform(df_indexed)\n",
    "\n",
    "        self.assertIn(\"typevec\", df_assembled.columns)\n",
    "        row = df_assembled.select(\"typevec\").head()\n",
    "        self.assertTrue(hasattr(row[\"typevec\"], \"toArray\"))\n",
    "        \n",
    "# ensure the script runs directly and triggers unit test framework to run all tests\n",
    "if __name__ == \"__main__\":\n",
    "    unittest.main(argv=['first-arg-is-ignored'], exit=False)"
   ]
  }
 ],
 "metadata": {
  "application/vnd.databricks.v1+notebook": {
   "computePreferences": null,
   "dashboards": [],
   "environmentMetadata": {
    "base_environment": "",
    "environment_version": "4"
   },
   "inputWidgetPreferences": null,
   "language": "python",
   "notebookMetadata": {
    "pythonIndentUnit": 4
   },
   "notebookName": "promotion_tests",
   "widgets": {}
  },
  "language_info": {
   "name": "python"
  }
 },
 "nbformat": 4,
 "nbformat_minor": 0
}
