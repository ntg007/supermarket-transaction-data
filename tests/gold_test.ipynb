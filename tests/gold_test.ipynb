{
 "cells": [
  {
   "cell_type": "code",
   "execution_count": 0,
   "metadata": {
    "application/vnd.databricks.v1+cell": {
     "cellMetadata": {
      "byteLimit": 2048000,
      "rowLimit": 10000
     },
     "inputWidgets": {},
     "nuid": "e2ff4b45-febb-4642-b219-a395622d5aca",
     "showTitle": false,
     "tableResultSettingsMap": {},
     "title": ""
    }
   },
   "outputs": [],
   "source": [
    "import unittest\n",
    "from pyspark.sql.functions import col\n",
    "\n",
    "class TestItemsNotebook(unittest.TestCase):\n",
    "\n",
    "    @classmethod\n",
    "    def setUpClass(cls):\n",
    "        # Load DataFrame from Parquet file for all tests\n",
    "        parquet_path = \"/mnt/gold/gold/\"\n",
    "        cls.df = spark.read.parquet(parquet_path)\n",
    "\n",
    "    def test_brand_and_type_indexed(self):\n",
    "        df = self.df\n",
    "        brands = df.select(\"brand_indexed\").rdd.flatMap(lambda x: x).collect()\n",
    "        types = df.select(\"type_indexed\").rdd.flatMap(lambda x: x).collect()\n",
    "\n",
    "        # Check brand_indexed is all float\n",
    "        non_float_brands = [b for b in brands if not isinstance(b, float)]\n",
    "        if non_float_brands:\n",
    "            print(\"Non-float entries in brand_indexed:\", non_float_brands)\n",
    "        self.assertTrue(len(non_float_brands) == 0, \"Not all brand_indexed values are float\")\n",
    "\n",
    "        # Check type_indexed is all float\n",
    "        non_float_types = [t for t in types if not isinstance(t, float)]\n",
    "        if non_float_types:\n",
    "            print(\"Non-float entries in type_indexed:\", non_float_types)\n",
    "        self.assertTrue(len(non_float_types) == 0, \"Not all type_indexed values are float\")\n",
    "\n",
    "    def test_size_value_positive(self):\n",
    "        df = self.df\n",
    "        size_values = df.select(\"size_value\").rdd.flatMap(lambda x: x).collect()\n",
    "\n",
    "        # Check all are convertible to float\n",
    "        def is_convertible_positive(val):\n",
    "            try:\n",
    "                return float(val) > 0\n",
    "            except Exception:\n",
    "                return False\n",
    "\n",
    "        non_numeric = [val for val in size_values if not is_convertible_positive(val) and val is not None]\n",
    "        if non_numeric:\n",
    "            print(\"Non-numeric or non-positive size_value entries:\", non_numeric)\n",
    "\n",
    "        # Only keep truly numeric entries for the next check\n",
    "        numeric_values = []\n",
    "        for val in size_values:\n",
    "            try:\n",
    "                f = float(val)\n",
    "                if f > 0:\n",
    "                    numeric_values.append(f)\n",
    "            except Exception:\n",
    "                continue\n",
    "\n",
    "        self.assertTrue(len(non_numeric) == 0, \"size_value contains non-convertible or non-positive entries\")\n",
    "\n",
    "    def test_size_unit_consistency(self):\n",
    "        # Define valid unit encodings, update if your mapping changes\n",
    "        valid_units = {0, 1, 2, 3}\n",
    "        df = self.df\n",
    "        units = df.select(\"size_unit_encoded\").rdd.flatMap(lambda x: x).collect()\n",
    "\n",
    "        invalid_units = [unit for unit in units if unit not in valid_units]\n",
    "        if invalid_units:\n",
    "            print(\"Invalid encoded units found in size_unit_encoded:\", set(invalid_units))\n",
    "        self.assertTrue(len(invalid_units) == 0, f\"Invalid unit codes present: {set(invalid_units)}\")\n",
    "\n",
    "if __name__ == \"__main__\":\n",
    "    unittest.main(argv=['first-arg-is-ignored'], exit=False)\n"
   ]
  }
 ],
 "metadata": {
  "application/vnd.databricks.v1+notebook": {
   "computePreferences": null,
   "dashboards": [],
   "environmentMetadata": {
    "base_environment": "",
    "environment_version": "4"
   },
   "inputWidgetPreferences": null,
   "language": "python",
   "notebookMetadata": {
    "mostRecentlyExecutedCommandWithImplicitDF": {
     "commandId": 6463599230703793,
     "dataframes": [
      "_sqldf"
     ]
    },
    "pythonIndentUnit": 4
   },
   "notebookName": "gold_test",
   "widgets": {}
  },
  "language_info": {
   "name": "python"
  }
 },
 "nbformat": 4,
 "nbformat_minor": 0
}
