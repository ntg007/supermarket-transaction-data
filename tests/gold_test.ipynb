{
 "cells": [
  {
   "cell_type": "code",
   "execution_count": 0,
   "metadata": {
    "application/vnd.databricks.v1+cell": {
     "cellMetadata": {
      "byteLimit": 2048000,
      "rowLimit": 10000
     },
     "inputWidgets": {},
     "nuid": "e2ff4b45-febb-4642-b219-a395622d5aca",
     "showTitle": false,
     "tableResultSettingsMap": {},
     "title": ""
    }
   },
   "outputs": [],
   "source": [
    "import unittest\n",
    "from pyspark.sql.functions import col\n",
    "\n",
    "class TestItemsNotebook(unittest.TestCase):\n",
    "\n",
    "    @classmethod\n",
    "    def setUpClass(cls):\n",
    "        # Create a sample items DataFrame similar to your raw input\n",
    "        data = [\n",
    "            (7680852290, \"BARILLA BUCATINI RIGATI\", 2, \"Barilla\", \"14 OZ\", 14.0, \"OZ\"),\n",
    "            (9505900016, \"BARILLA PLUS SPAGHETTI\", 2, \"Barilla Plus\", \"16 OZ\", 16.0, \"OZ\"),\n",
    "            (1510000001, \"CREAMETTE ELBW MACARONI SMALL\", 2, \"Creamette\", \"7 OZ\", 7.0, \"OZ\")\n",
    "        ]\n",
    "        columns = [\n",
    "            \"code\", \"description\", \"type_indexed\", \"brand_indexed\",\n",
    "            \"size_str\", \"size_value\", \"size_unit\"\n",
    "        ]\n",
    "        cls.df = spark.createDataFrame(data, columns)\n",
    "    \n",
    "    @classmethod\n",
    "    def tearDownClass(cls):\n",
    "        pass  # No need to stop Spark in Databricks\n",
    "\n",
    "    def test_brand_and_type_indexed(self):\n",
    "        df = self.df\n",
    "        brands = df.select(\"brand_indexed\").rdd.flatMap(lambda x: x).collect()\n",
    "        types = df.select(\"type_indexed\").rdd.flatMap(lambda x: x).collect()\n",
    "        self.assertTrue(all(isinstance(b, str) for b in brands))\n",
    "        self.assertTrue(all(isinstance(t, int) for t in types))\n",
    "    \n",
    "    def test_size_value_positive(self):\n",
    "        df = self.df\n",
    "        size_values = df.select(\"size_value\").rdd.flatMap(lambda x: x).collect()\n",
    "        self.assertTrue(all(isinstance(val, float) for val in size_values))\n",
    "        self.assertTrue(all(val > 0 for val in size_values))\n",
    "    \n",
    "    def test_size_unit_consistency(self):\n",
    "        valid_units = {\"OZ\", \"LB\", \"G\", \"KG\"}\n",
    "        df = self.df\n",
    "        units = df.select(\"size_unit\").rdd.flatMap(lambda x: x).collect()\n",
    "        self.assertTrue(all(unit in valid_units for unit in units))\n",
    "\n",
    "if __name__ == \"__main__\":\n",
    "    unittest.main(argv=['first-arg-is-ignored'], exit=False)"
   ]
  }
 ],
 "metadata": {
  "application/vnd.databricks.v1+notebook": {
   "computePreferences": null,
   "dashboards": [],
   "environmentMetadata": {
    "base_environment": "",
    "environment_version": "4"
   },
   "inputWidgetPreferences": null,
   "language": "python",
   "notebookMetadata": {
    "pythonIndentUnit": 4
   },
   "notebookName": "gold_test",
   "widgets": {}
  },
  "language_info": {
   "name": "python"
  }
 },
 "nbformat": 4,
 "nbformat_minor": 0
}
