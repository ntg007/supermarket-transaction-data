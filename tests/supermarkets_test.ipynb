{
 "cells": [
  {
   "cell_type": "code",
   "execution_count": 0,
   "metadata": {
    "application/vnd.databricks.v1+cell": {
     "cellMetadata": {
      "byteLimit": 2048000,
      "rowLimit": 10000
     },
     "inputWidgets": {},
     "nuid": "9d4a4253-05f4-4174-be16-0b0a5b3a126b",
     "showTitle": false,
     "tableResultSettingsMap": {},
     "title": ""
    }
   },
   "outputs": [],
   "source": [
    "import unittest\n",
    "from pyspark.sql.functions import col\n",
    "\n",
    "class TestSupermarketsNotebook(unittest.TestCase):\n",
    "\n",
    "    @classmethod\n",
    "    def setUpClass(cls):\n",
    "        parquet_path = \"/mnt/silver/supermarkets/\"\n",
    "        cls.df = spark.read.parquet(parquet_path)\n",
    "\n",
    "    def test_column_renames_and_casts(self):\n",
    "        df = self.df\n",
    "\n",
    "        df = df.withColumnRenamed(\"supermarketNo\", \"supermarket\")\n",
    "        df = df.withColumn(\"postalcode\", col(\"postal_code\").cast(\"string\"))\n",
    "        # Explicitly remove old columns that are no longer needed after rename/cast\n",
    "        df = df.drop(\"supermarketNo\", \"postal_code\")\n",
    "\n",
    "        # Check that the new column names exist in the DataFrame\n",
    "        self.assertTrue(\"supermarket\" in df.columns)\n",
    "        self.assertTrue(\"postalcode\" in df.columns)\n",
    "        # Check that the old column names no longer exist\n",
    "        self.assertFalse(\"supermarketNo\" in df.columns)\n",
    "        self.assertFalse(\"postal_code\" in df.columns)\n",
    "\n",
    "        # Retrieve all values from 'postalcode' as a list\n",
    "        postalcodes = df.select(\"postalcode\").rdd.flatMap(lambda x: x).collect()\n",
    "\n",
    "    def test_postalcode_string_indexing(self):\n",
    "        from pyspark.ml.feature import StringIndexer\n",
    "\n",
    "        df = self.df\n",
    "        # Consistent renaming and string casting as above\n",
    "        df = df.withColumnRenamed(\"supermarketNo\", \"supermarket\")\n",
    "        df = df.withColumn(\"postalcode\", col(\"postal_code\").cast(\"string\"))\n",
    "\n",
    "        # Create a StringIndexer to encode 'postalcode' strings into numeric indices\n",
    "        indexer = StringIndexer(\n",
    "            inputCol=\"postalcode\",\n",
    "            outputCol=\"postalcode_indexed\",\n",
    "            handleInvalid=\"keep\"\n",
    "        )\n",
    "        # Fit the indexer on the DataFrame and apply the transformation\n",
    "        model = indexer.fit(df)\n",
    "        df_indexed = model.transform(df)\n",
    "\n",
    "        # Verify that the new indexed column exists\n",
    "        self.assertIn(\"postalcode_indexed\", df_indexed.columns)\n",
    "        # Check the data type of the indexed column is 'double' (the default output type)\n",
    "        types = dict(df_indexed.dtypes)\n",
    "        self.assertEqual(types[\"postalcode_indexed\"], \"double\")\n",
    "\n",
    "if __name__ == \"__main__\":\n",
    "    # Required for running unittest in interactive and notebook environments\n",
    "    unittest.main(argv=['first-arg-is-ignored'], exit=False)\n"
   ]
  }
 ],
 "metadata": {
  "application/vnd.databricks.v1+notebook": {
   "computePreferences": null,
   "dashboards": [],
   "environmentMetadata": {
    "base_environment": "",
    "environment_version": "4"
   },
   "inputWidgetPreferences": null,
   "language": "python",
   "notebookMetadata": {
    "pythonIndentUnit": 4
   },
   "notebookName": "supermarkets_test",
   "widgets": {}
  },
  "language_info": {
   "name": "python"
  }
 },
 "nbformat": 4,
 "nbformat_minor": 0
}
