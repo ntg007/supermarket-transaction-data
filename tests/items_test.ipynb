{
 "cells": [
  {
   "cell_type": "code",
   "execution_count": 0,
   "metadata": {
    "application/vnd.databricks.v1+cell": {
     "cellMetadata": {
      "byteLimit": 2048000,
      "rowLimit": 10000
     },
     "inputWidgets": {},
     "nuid": "3308fdc1-219b-4225-a289-3fedb00ac46c",
     "showTitle": false,
     "tableResultSettingsMap": {},
     "title": ""
    }
   },
   "outputs": [],
   "source": [
    "import unittest\n",
    "from pyspark.sql.functions import col\n",
    "\n",
    "class TestItemsNotebook(unittest.TestCase):\n",
    "\n",
    "    @classmethod\n",
    "    def setUpClass(cls):\n",
    "        # Path to your parquet file in Azure Blob\n",
    "        parquet_path = \"/mnt/silver/items/\"\n",
    "        \n",
    "        # Load DataFrame from Parquet file in Azure Blob storage\n",
    "        cls.df = spark.read.parquet(parquet_path)\n",
    "    \n",
    "    @classmethod\n",
    "    def tearDownClass(cls):\n",
    "        pass  # No need to stop Spark in Databricks\n",
    "\n",
    "    def test_brand_and_type_indexed(self):\n",
    "        df = self.df\n",
    "        brands = df.select(\"brand_indexed\").rdd.flatMap(lambda x: x).collect()\n",
    "        types = df.select(\"type_indexed\").rdd.flatMap(lambda x: x).collect()\n",
    "        self.assertTrue(all(isinstance(b,  float) for b in brands))\n",
    "        self.assertTrue(all(isinstance(t, float) for t in types))\n",
    "    \n",
    "    def test_size_value_positive(self):\n",
    "        df = self.df\n",
    "        size_values = df.select(\"size_value\").rdd.flatMap(lambda x: x).collect()\n",
    "        self.assertTrue(all(val is None or isinstance(val, float) for val in size_values))\n",
    "        self.assertTrue(all(val is None or val >= 0 for val in size_values))\n",
    "\n",
    "    \n",
    "    def test_size_unit_consistency(self):\n",
    "        valid_units = {\"OZ\", \"LB\", \"G\", \"KG\", \"UNKNOWN\"}\n",
    "        df = self.df\n",
    "        units = df.select(\"size_unit\").rdd.flatMap(lambda x: x).collect()\n",
    "        self.assertTrue(all(unit in valid_units for unit in units))\n",
    "\n",
    "if __name__ == \"__main__\":\n",
    "    unittest.main(argv=['first-arg-is-ignored'], exit=False)\n"
   ]
  }
 ],
 "metadata": {
  "application/vnd.databricks.v1+notebook": {
   "computePreferences": null,
   "dashboards": [],
   "environmentMetadata": {
    "base_environment": "",
    "environment_version": "4"
   },
   "inputWidgetPreferences": null,
   "language": "python",
   "notebookMetadata": {
    "pythonIndentUnit": 4
   },
   "notebookName": "items_test",
   "widgets": {}
  },
  "language_info": {
   "name": "python"
  }
 },
 "nbformat": 4,
 "nbformat_minor": 0
}
