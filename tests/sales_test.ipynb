{
 "cells": [
  {
   "cell_type": "code",
   "execution_count": 0,
   "metadata": {
    "application/vnd.databricks.v1+cell": {
     "cellMetadata": {
      "byteLimit": 2048000,
      "rowLimit": 10000
     },
     "inputWidgets": {},
     "nuid": "68c02a2e-84cd-42b9-8797-eb4e2df1a3af",
     "showTitle": false,
     "tableResultSettingsMap": {},
     "title": ""
    }
   },
   "outputs": [],
   "source": [
    "import unittest\n",
    "from pyspark.sql.functions import col, sin, cos, pi\n",
    "\n",
    "class TestSalesDataProcessing(unittest.TestCase):\n",
    "\n",
    "    @classmethod\n",
    "    def setUpClass(cls):\n",
    "        parquet_path = \"/mnt/silver/sales/\"\n",
    "        cls.df = spark.read.parquet(parquet_path)\n",
    "# Check for correct indicator logic\n",
    "    def test_province_encoding(self):\n",
    "        df = self.df.withColumn(\"province1\", (col(\"province\") == 1).cast(\"int\")) \\\n",
    "                    .withColumn(\"province2\", (col(\"province\") == 2).cast(\"int\"))\n",
    "        results = df.select(\"province\", \"province1\", \"province2\").collect()\n",
    "        for row in results:\n",
    "            self.assertEqual(row[\"province1\"], 1 if row[\"province\"] == 1 else 0)\n",
    "            self.assertEqual(row[\"province2\"], 1 if row[\"province\"] == 2 else 0)\n",
    "# Check logic on time transformation\n",
    "    def test_hour_extraction_and_cyclic_features(self):\n",
    "        HOURS_IN_DAY = 24\n",
    "        df = self.df.withColumn(\n",
    "            \"hour\", (col(\"time\") / 100).cast(\"int\")\n",
    "        )\n",
    "        df = df.withColumn(\n",
    "            \"hoursin\", sin(2 * pi() * col(\"hour\") / HOURS_IN_DAY)\n",
    "        ).withColumn(\n",
    "            \"hourcos\", cos(2 * pi() * col(\"hour\") / HOURS_IN_DAY)\n",
    "        )\n",
    "        result = df.select(\"time\", \"hour\", \"hoursin\", \"hourcos\").collect()\n",
    "        for row in result:\n",
    "            expected_hour = row[\"time\"] // 100\n",
    "            self.assertEqual(row[\"hour\"], expected_hour)\n",
    "            self.assertIsInstance(row[\"hoursin\"], float)\n",
    "            self.assertIsInstance(row[\"hourcos\"], float)\n",
    "\n",
    "if __name__ == \"__main__\":\n",
    "    unittest.main(argv=['first-arg-is-ignored'], exit=False)"
   ]
  }
 ],
 "metadata": {
  "application/vnd.databricks.v1+notebook": {
   "computePreferences": null,
   "dashboards": [],
   "environmentMetadata": {
    "base_environment": "",
    "environment_version": "4"
   },
   "inputWidgetPreferences": null,
   "language": "python",
   "notebookMetadata": {
    "pythonIndentUnit": 4
   },
   "notebookName": "sales_test",
   "widgets": {}
  },
  "language_info": {
   "name": "python"
  }
 },
 "nbformat": 4,
 "nbformat_minor": 0
}
