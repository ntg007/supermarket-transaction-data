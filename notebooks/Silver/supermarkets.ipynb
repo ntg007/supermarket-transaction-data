{
 "cells": [
  {
   "cell_type": "code",
   "execution_count": 0,
   "metadata": {
    "application/vnd.databricks.v1+cell": {
     "cellMetadata": {
      "byteLimit": 2048000,
      "rowLimit": 10000
     },
     "inputWidgets": {},
     "nuid": "39fbcb74-2471-425b-97c0-7bee2e7c81ff",
     "showTitle": true,
     "tableResultSettingsMap": {},
     "title": "load raw sales csv"
    }
   },
   "outputs": [],
   "source": [
    "supermarkets_df = (\n",
    "    spark.read\n",
    "    .option(\"header\", True)\n",
    "    .option(\"inferSchema\", True)\n",
    "    .option(\"multiLine\", True)\n",
    "    .csv(\"/mnt/raw-bronze/supermarkets.csv\")\n",
    ")\n",
    "#display(supermarkets_df)\n",
    "supermarkets_df.createOrReplaceTempView(\"supermarkets\")"
   ]
  },
  {
   "cell_type": "code",
   "execution_count": 0,
   "metadata": {
    "application/vnd.databricks.v1+cell": {
     "cellMetadata": {
      "byteLimit": 2048000,
      "rowLimit": 10000
     },
     "inputWidgets": {},
     "nuid": "7f1bc695-b032-4b2e-9ab7-24d9de0be7c6",
     "showTitle": false,
     "tableResultSettingsMap": {},
     "title": ""
    }
   },
   "outputs": [],
   "source": [
    "from pyspark.sql.functions import col, lit, when\n",
    "from pyspark.ml.feature import StringIndexer\n",
    "from pyspark.sql.types import StringType\n",
    "\n",
    "\n",
    "\n",
    "# --- 1. Rename and Initial Cleaning ---\n",
    "\n",
    "# Rename the primary key column to match the sales table\n",
    "supermarkets_df = supermarkets_df.withColumnRenamed(\"supermarket_No\", \"supermarket\")\n",
    "\n",
    "# Convert postal-code to string type explicitly to ensure StringIndexer treats it categorically\n",
    "supermarkets_df = supermarkets_df.withColumn(\"postal_code\", col(\"postal-code\").cast(StringType()))\n",
    "\n",
    "# Fill nulls/missing with 'UNKNOWN' for safe indexing\n",
    "supermarkets_df = supermarkets_df.fillna(\"UNKNOWN\", subset=[\"postal_code\"])\n",
    "\n",
    "# --- 2. String Indexing for Postal Code ---\n",
    "\n",
    "# Postal Code is a high-cardinality nominal feature (like a city or address) \n",
    "# and requires indexing, not OHE.\n",
    "indexer_postal = StringIndexer(\n",
    "    inputCol=\"postal_code\",\n",
    "    outputCol=\"postal_code_indexed\",\n",
    "    handleInvalid='keep'\n",
    ")\n",
    "\n",
    "# Execute the Indexer\n",
    "indexer_model_postal = indexer_postal.fit(supermarkets_df)\n",
    "supermarkets_df_silver = indexer_model_postal.transform(supermarkets_df)\n",
    "\n",
    "# --- 3. Final Supermarkets DataFrame for Silver Layer ---\n",
    "supermarkets_df_silver = supermarkets_df_silver.drop(\"postal-code\")\n",
    "\n",
    "\n",
    "\n"
   ]
  },
  {
   "cell_type": "code",
   "execution_count": 0,
   "metadata": {
    "application/vnd.databricks.v1+cell": {
     "cellMetadata": {
      "byteLimit": 2048000,
      "rowLimit": 10000
     },
     "inputWidgets": {},
     "nuid": "308d0ccb-7959-4bea-98be-41861545f7d5",
     "showTitle": true,
     "tableResultSettingsMap": {},
     "title": "write parquet to adls"
    }
   },
   "outputs": [],
   "source": [
    "# Write the DataFrame to the mounted silver path\n",
    "output_path = \"/mnt/silver/supermarkets/\"\n",
    "\n",
    "supermarkets_df_silver.write.parquet(\n",
    "    output_path,\n",
    "    mode=\"overwrite\"\n",
    ")"
   ]
  }
 ],
 "metadata": {
  "application/vnd.databricks.v1+notebook": {
   "computePreferences": null,
   "dashboards": [],
   "environmentMetadata": {
    "base_environment": "",
    "environment_version": "4"
   },
   "inputWidgetPreferences": null,
   "language": "python",
   "notebookMetadata": {
    "pythonIndentUnit": 4
   },
   "notebookName": "supermarkets",
   "widgets": {}
  },
  "language_info": {
   "name": "python"
  }
 },
 "nbformat": 4,
 "nbformat_minor": 0
}
