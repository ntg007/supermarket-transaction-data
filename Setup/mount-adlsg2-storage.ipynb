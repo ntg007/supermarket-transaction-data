{
 "cells": [
  {
   "cell_type": "code",
   "execution_count": 0,
   "metadata": {
    "application/vnd.databricks.v1+cell": {
     "cellMetadata": {
      "byteLimit": 2048000,
      "rowLimit": 10000
     },
     "inputWidgets": {},
     "nuid": "3457807b-793b-48bb-974a-4c31636a4a9f",
     "showTitle": false,
     "tableResultSettingsMap": {},
     "title": ""
    }
   },
   "outputs": [],
   "source": [
    "container = \"raw-bronze\"\n",
    "storage_account = dbutils.secrets.get(scope=\"sm-trans-sscope\", key=\"storageaccount\")\n",
    "mount_point = \"/mnt/raw-bronze\"\n",
    "secret_scope = \"sm-trans-sscope\"\n",
    "secret_key = \"strans-key\"\n",
    "\n",
    "dbutils.fs.mount(\n",
    "    source=f\"wasbs://{container}@{storage_account}.blob.core.windows.net/\",\n",
    "    mount_point=mount_point,\n",
    "    extra_configs={\n",
    "        f\"fs.azure.account.key.{storage_account}.blob.core.windows.net\": dbutils.secrets.get(scope=secret_scope, key=secret_key)\n",
    "    }\n",
    ")"
   ]
  },
  {
   "cell_type": "code",
   "execution_count": 0,
   "metadata": {
    "application/vnd.databricks.v1+cell": {
     "cellMetadata": {
      "byteLimit": 2048000,
      "rowLimit": 10000
     },
     "inputWidgets": {},
     "nuid": "38eb66c1-c94f-4fb0-adf8-0e8c238021fb",
     "showTitle": false,
     "tableResultSettingsMap": {},
     "title": ""
    }
   },
   "outputs": [],
   "source": [
    "container = \"cleaned-silver\"\n",
    "storage_account = dbutils.secrets.get(scope=\"sm-trans-sscope\", key=\"storageaccount\")\n",
    "mount_point = \"/mnt/silver\"\n",
    "secret_scope = \"sm-trans-sscope\"\n",
    "secret_key = \"strans-key\"\n",
    "\n",
    "dbutils.fs.mount(\n",
    "    source=f\"wasbs://{container}@{storage_account}.blob.core.windows.net/\",\n",
    "    mount_point=mount_point,\n",
    "    extra_configs={\n",
    "        f\"fs.azure.account.key.{storage_account}.blob.core.windows.net\": dbutils.secrets.get(scope=secret_scope, key=secret_key)\n",
    "    }\n",
    ")"
   ]
  },
  {
   "cell_type": "code",
   "execution_count": 0,
   "metadata": {
    "application/vnd.databricks.v1+cell": {
     "cellMetadata": {
      "byteLimit": 2048000,
      "rowLimit": 10000
     },
     "inputWidgets": {},
     "nuid": "85bdea67-0fd1-422f-884a-44a543edb9c3",
     "showTitle": false,
     "tableResultSettingsMap": {},
     "title": ""
    }
   },
   "outputs": [],
   "source": [
    "container = \"gold\"\n",
    "storage_account = dbutils.secrets.get(scope=\"sm-trans-sscope\", key=\"storageaccount\")\n",
    "mount_point = \"/mnt/gold\"\n",
    "secret_scope = \"sm-trans-sscope\"\n",
    "secret_key = \"strans-key\"\n",
    "\n",
    "dbutils.fs.mount(\n",
    "    source=f\"wasbs://{container}@{storage_account}.blob.core.windows.net/\",\n",
    "    mount_point=mount_point,\n",
    "    extra_configs={\n",
    "        f\"fs.azure.account.key.{storage_account}.blob.core.windows.net\": dbutils.secrets.get(scope=secret_scope, key=secret_key)\n",
    "    }\n",
    ")"
   ]
  },
  {
   "cell_type": "code",
   "execution_count": 0,
   "metadata": {
    "application/vnd.databricks.v1+cell": {
     "cellMetadata": {
      "byteLimit": 2048000,
      "rowLimit": 10000
     },
     "inputWidgets": {},
     "nuid": "f2c3304c-11c8-4f95-a8c5-da26ebbefd9e",
     "showTitle": false,
     "tableResultSettingsMap": {},
     "title": ""
    }
   },
   "outputs": [],
   "source": [
    "container = \"model\"\n",
    "storage_account = dbutils.secrets.get(scope=\"sm-trans-sscope\", key=\"storageaccount\")\n",
    "mount_point = \"/mnt/model\"\n",
    "secret_scope = \"sm-trans-sscope\"\n",
    "secret_key = \"strans-key\"\n",
    "\n",
    "dbutils.fs.mount(\n",
    "    source=f\"wasbs://{container}@{storage_account}.blob.core.windows.net/\",\n",
    "    mount_point=mount_point,\n",
    "    extra_configs={\n",
    "        f\"fs.azure.account.key.{storage_account}.blob.core.windows.net\": dbutils.secrets.get(scope=secret_scope, key=secret_key)\n",
    "    }\n",
    ")"
   ]
  }
 ],
 "metadata": {
  "application/vnd.databricks.v1+notebook": {
   "computePreferences": null,
   "dashboards": [],
   "environmentMetadata": {
    "base_environment": "",
    "environment_version": "4"
   },
   "inputWidgetPreferences": null,
   "language": "python",
   "notebookMetadata": {
    "mostRecentlyExecutedCommandWithImplicitDF": {
     "commandId": 4792345410271246,
     "dataframes": [
      "_sqldf"
     ]
    },
    "pythonIndentUnit": 4
   },
   "notebookName": "mount-adlsg2-storage",
   "widgets": {}
  },
  "language_info": {
   "name": "python"
  }
 },
 "nbformat": 4,
 "nbformat_minor": 0
}
