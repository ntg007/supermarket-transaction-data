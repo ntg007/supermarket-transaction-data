{
 "cells": [
  {
   "cell_type": "code",
   "execution_count": 0,
   "metadata": {
    "application/vnd.databricks.v1+cell": {
     "cellMetadata": {
      "byteLimit": 2048000,
      "rowLimit": 10000
     },
     "inputWidgets": {},
     "nuid": "c2cdc5f2-16d5-4e7a-8ad5-0e5c5d6461ca",
     "showTitle": false,
     "tableResultSettingsMap": {},
     "title": ""
    }
   },
   "outputs": [],
   "source": [
    "sas = dbutils.secrets.get(\n",
    "    scope=\"sm-trans-sscope\",\n",
    "    key=\"stsmtranstoken\"\n",
    ")\n",
    "\n",
    "dbutils.fs.mount(\n",
    "    source=\"wasbs://raw-bronze@stsmtransdevncus.blob.core.windows.net/\",\n",
    "    mount_point=\"/mnt/bronze\",\n",
    "    extra_configs={\n",
    "        \"fs.azure.sas.raw-bronze.stsmtransdevncus.blob.core.windows.net\": sas\n",
    "    }\n",
    ")"
   ]
  }
 ],
 "metadata": {
  "application/vnd.databricks.v1+notebook": {
   "computePreferences": null,
   "dashboards": [],
   "environmentMetadata": {
    "base_environment": "",
    "environment_version": "4"
   },
   "inputWidgetPreferences": null,
   "language": "python",
   "notebookMetadata": {
    "pythonIndentUnit": 4
   },
   "notebookName": "mount-adlsg2-storage",
   "widgets": {}
  },
  "language_info": {
   "name": "python"
  }
 },
 "nbformat": 4,
 "nbformat_minor": 0
}
